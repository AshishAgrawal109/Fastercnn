{
 "cells": [
  {
   "cell_type": "code",
   "execution_count": 1,
   "metadata": {},
   "outputs": [],
   "source": [
    "import torch\n",
    "import torch.nn as nn\n",
    "import torch.optim as optim\n",
    "\n",
    "import matplotlib.pyplot as plt"
   ]
  },
  {
   "cell_type": "code",
   "execution_count": 2,
   "metadata": {},
   "outputs": [],
   "source": [
    "data_celsius = [0.5, 14.0, 15.0, 28.0, 11.0, 8.0, 3.0, -4.0, 6.0, 13.0, 21.0, 14.76]\n",
    "data_custom = [35.7, 55.9, 58.2, 81.9, 56.3, 48.9, 33.9, 21.8, 48.4, 60.4, 68.4, 58.568]\n",
    "tensor_celsius = torch.tensor(data_celsius)\n",
    "tensor_custom = torch.tensor(data_custom)"
   ]
  },
  {
   "cell_type": "code",
   "execution_count": 3,
   "metadata": {},
   "outputs": [],
   "source": [
    "t_u = tensor_custom\n",
    "t_c = tensor_celsius"
   ]
  },
  {
   "cell_type": "code",
   "execution_count": 4,
   "metadata": {},
   "outputs": [],
   "source": [
    "linear_model = nn.Linear(1, 1)"
   ]
  },
  {
   "cell_type": "code",
   "execution_count": 5,
   "metadata": {},
   "outputs": [
    {
     "data": {
      "text/plain": [
       "torch.Size([12])"
      ]
     },
     "execution_count": 5,
     "metadata": {},
     "output_type": "execute_result"
    }
   ],
   "source": [
    "t_u.shape"
   ]
  },
  {
   "cell_type": "code",
   "execution_count": 6,
   "metadata": {},
   "outputs": [],
   "source": [
    "# batching the data\n",
    "t_u_batch = t_u.unsqueeze(1)\n",
    "t_c_batch = t_c.unsqueeze(1)"
   ]
  },
  {
   "cell_type": "code",
   "execution_count": 7,
   "metadata": {},
   "outputs": [
    {
     "data": {
      "text/plain": [
       "torch.Size([12, 1])"
      ]
     },
     "execution_count": 7,
     "metadata": {},
     "output_type": "execute_result"
    }
   ],
   "source": [
    "t_u_batch.shape # 12 samples in a batch"
   ]
  },
  {
   "cell_type": "markdown",
   "metadata": {},
   "source": [
    "#### playing with batch size"
   ]
  },
  {
   "cell_type": "code",
   "execution_count": 8,
   "metadata": {},
   "outputs": [],
   "source": [
    "t_u_batchv2 = t_u_batch.view(2, 6, 1)"
   ]
  },
  {
   "cell_type": "code",
   "execution_count": 9,
   "metadata": {},
   "outputs": [
    {
     "data": {
      "text/plain": [
       "tensor([[[-29.9360],\n",
       "         [-46.6066],\n",
       "         [-48.5047],\n",
       "         [-68.0638],\n",
       "         [-46.9367],\n",
       "         [-40.8297]],\n",
       "\n",
       "        [[-28.4505],\n",
       "         [-18.4647],\n",
       "         [-40.4170],\n",
       "         [-50.3203],\n",
       "         [-56.9225],\n",
       "         [-48.8084]]], grad_fn=<AddBackward0>)"
      ]
     },
     "execution_count": 9,
     "metadata": {},
     "output_type": "execute_result"
    }
   ],
   "source": [
    "linear_model(t_u_batchv2)"
   ]
  },
  {
   "cell_type": "code",
   "execution_count": 10,
   "metadata": {},
   "outputs": [
    {
     "data": {
      "text/plain": [
       "tensor([[[35.7000],\n",
       "         [55.9000],\n",
       "         [58.2000],\n",
       "         [81.9000],\n",
       "         [56.3000],\n",
       "         [48.9000]],\n",
       "\n",
       "        [[33.9000],\n",
       "         [21.8000],\n",
       "         [48.4000],\n",
       "         [60.4000],\n",
       "         [68.4000],\n",
       "         [58.5680]]])"
      ]
     },
     "execution_count": 10,
     "metadata": {},
     "output_type": "execute_result"
    }
   ],
   "source": [
    "t_u_batchv2"
   ]
  },
  {
   "cell_type": "code",
   "execution_count": 11,
   "metadata": {},
   "outputs": [],
   "source": [
    "# broadcasting on batch\n",
    "t_p_batchv2 = 2*t_u_batchv2 + 1"
   ]
  },
  {
   "cell_type": "code",
   "execution_count": 12,
   "metadata": {},
   "outputs": [
    {
     "data": {
      "text/plain": [
       "tensor([[[ 72.4000],\n",
       "         [112.8000],\n",
       "         [117.4000],\n",
       "         [164.8000],\n",
       "         [113.6000],\n",
       "         [ 98.8000]],\n",
       "\n",
       "        [[ 68.8000],\n",
       "         [ 44.6000],\n",
       "         [ 97.8000],\n",
       "         [121.8000],\n",
       "         [137.8000],\n",
       "         [118.1360]]])"
      ]
     },
     "execution_count": 12,
     "metadata": {},
     "output_type": "execute_result"
    }
   ],
   "source": [
    "t_p_batchv2"
   ]
  },
  {
   "cell_type": "code",
   "execution_count": 13,
   "metadata": {},
   "outputs": [],
   "source": [
    "t_c_batchv2 = t_c_batch.view(2, 6, 1)"
   ]
  },
  {
   "cell_type": "code",
   "execution_count": 14,
   "metadata": {},
   "outputs": [
    {
     "data": {
      "text/plain": [
       "tensor([[[ 71.9000],\n",
       "         [ 98.8000],\n",
       "         [102.4000],\n",
       "         [136.8000],\n",
       "         [102.6000],\n",
       "         [ 90.8000]],\n",
       "\n",
       "        [[ 65.8000],\n",
       "         [ 48.6000],\n",
       "         [ 91.8000],\n",
       "         [108.8000],\n",
       "         [116.8000],\n",
       "         [103.3760]]])"
      ]
     },
     "execution_count": 14,
     "metadata": {},
     "output_type": "execute_result"
    }
   ],
   "source": [
    "t_p_batchv2 - t_c_batchv2"
   ]
  },
  {
   "cell_type": "code",
   "execution_count": 15,
   "metadata": {},
   "outputs": [
    {
     "data": {
      "text/plain": [
       "Parameter containing:\n",
       "tensor([[-0.8253]], requires_grad=True)"
      ]
     },
     "execution_count": 15,
     "metadata": {},
     "output_type": "execute_result"
    }
   ],
   "source": [
    "linear_model.weight"
   ]
  },
  {
   "cell_type": "code",
   "execution_count": 16,
   "metadata": {},
   "outputs": [
    {
     "data": {
      "text/plain": [
       "Parameter containing:\n",
       "tensor([-0.4737], requires_grad=True)"
      ]
     },
     "execution_count": 16,
     "metadata": {},
     "output_type": "execute_result"
    }
   ],
   "source": [
    "linear_model.bias"
   ]
  },
  {
   "cell_type": "code",
   "execution_count": 17,
   "metadata": {},
   "outputs": [
    {
     "data": {
      "text/plain": [
       "<generator object Module.parameters at 0x000001F0C2A9F970>"
      ]
     },
     "execution_count": 17,
     "metadata": {},
     "output_type": "execute_result"
    }
   ],
   "source": [
    "linear_model.parameters()"
   ]
  },
  {
   "cell_type": "markdown",
   "metadata": {},
   "source": [
    "#### Training the linear model"
   ]
  },
  {
   "cell_type": "code",
   "execution_count": 18,
   "metadata": {},
   "outputs": [],
   "source": [
    "def training_loop_linear(n_epochs, optimizer, t_u_batch, t_c_batch, model, loss_fn):\n",
    "    for epoch in range(1, n_epochs+1):\n",
    "        t_p_batch = model(t_u_batch)\n",
    "        loss = loss_fn(t_p_batch, t_c_batch)\n",
    "        \n",
    "        optimizer.zero_grad()\n",
    "        loss.backward()\n",
    "        optimizer.step()\n",
    "        \n",
    "        if epoch % 500 == 0:\n",
    "            print(f\"epoch: {epoch}, loss: {loss}\")"
   ]
  },
  {
   "cell_type": "code",
   "execution_count": 19,
   "metadata": {},
   "outputs": [],
   "source": [
    "linear_model = nn.Linear(1, 1)\n",
    "learning_rate = 1e-2\n",
    "optimizer = optim.Adam(linear_model.parameters(), lr=learning_rate)"
   ]
  },
  {
   "cell_type": "code",
   "execution_count": 20,
   "metadata": {},
   "outputs": [
    {
     "name": "stdout",
     "output_type": "stream",
     "text": [
      "epoch: 500, loss: 31.340036392211914\n",
      "epoch: 1000, loss: 29.05510139465332\n",
      "epoch: 1500, loss: 26.010499954223633\n",
      "epoch: 2000, loss: 22.434249877929688\n",
      "epoch: 2500, loss: 18.583568572998047\n",
      "epoch: 3000, loss: 14.74837589263916\n",
      "epoch: 3500, loss: 11.218238830566406\n",
      "epoch: 4000, loss: 8.2334566116333\n",
      "epoch: 4500, loss: 5.940358638763428\n",
      "epoch: 5000, loss: 4.367180824279785\n"
     ]
    }
   ],
   "source": [
    "training_loop_linear(5000, optimizer, t_u_batch, t_c_batch, linear_model, loss_fn=nn.MSELoss())"
   ]
  },
  {
   "cell_type": "code",
   "execution_count": 21,
   "metadata": {},
   "outputs": [
    {
     "data": {
      "text/plain": [
       "[Parameter containing:\n",
       " tensor([[0.4584]], requires_grad=True),\n",
       " Parameter containing:\n",
       " tensor([-12.7901], requires_grad=True)]"
      ]
     },
     "execution_count": 21,
     "metadata": {},
     "output_type": "execute_result"
    }
   ],
   "source": [
    "list(linear_model.parameters())"
   ]
  },
  {
   "cell_type": "code",
   "execution_count": 22,
   "metadata": {},
   "outputs": [
    {
     "data": {
      "text/plain": [
       "[<matplotlib.lines.Line2D at 0x1f0c2b4ae50>]"
      ]
     },
     "execution_count": 22,
     "metadata": {},
     "output_type": "execute_result"
    },
    {
     "data": {
      "image/png": "[encoded data removed]",
      "text/plain": [
       "<Figure size 576x432 with 1 Axes>"
      ]
     },
     "metadata": {
      "needs_background": "light"
     },
     "output_type": "display_data"
    }
   ],
   "source": [
    "fig, ax = plt.subplots(1, 1, figsize=(8, 6))\n",
    "\n",
    "ax.set_xlabel(\"Data Custom\")\n",
    "ax.set_ylabel(\"Data Celsius\")\n",
    "\n",
    "ax.scatter(data_custom, data_celsius, color=\"orange\")\n",
    "\n",
    "t_p_batch = linear_model(t_u_batch)\n",
    "t_p = t_p_batch.squeeze(1)\n",
    "ax.plot(t_u.numpy(), t_p.detach().numpy())"
   ]
  },
  {
   "cell_type": "markdown",
   "metadata": {},
   "source": [
    "### Neural Network"
   ]
  },
  {
   "cell_type": "code",
   "execution_count": 23,
   "metadata": {},
   "outputs": [],
   "source": [
    "seq_model = nn.Sequential(\n",
    "    nn.Linear(1, 13),\n",
    "    nn.Tanh(),\n",
    "    nn.Linear(13, 1)\n",
    ")"
   ]
  },
  {
   "cell_type": "code",
   "execution_count": 24,
   "metadata": {},
   "outputs": [
    {
     "data": {
      "text/plain": [
       "Sequential(\n",
       "  (0): Linear(in_features=1, out_features=13, bias=True)\n",
       "  (1): Tanh()\n",
       "  (2): Linear(in_features=13, out_features=1, bias=True)\n",
       ")"
      ]
     },
     "execution_count": 24,
     "metadata": {},
     "output_type": "execute_result"
    }
   ],
   "source": [
    "seq_model"
   ]
  },
  {
   "cell_type": "code",
   "execution_count": 25,
   "metadata": {},
   "outputs": [
    {
     "name": "stdout",
     "output_type": "stream",
     "text": [
      "0.weight torch.Size([13, 1])\n",
      "0.bias torch.Size([13])\n",
      "2.weight torch.Size([1, 13])\n",
      "2.bias torch.Size([1])\n"
     ]
    }
   ],
   "source": [
    "for name, param in seq_model.named_parameters():\n",
    "    print(name, param.shape)"
   ]
  },
  {
   "cell_type": "code",
   "execution_count": 26,
   "metadata": {},
   "outputs": [],
   "source": [
    "learning_rate = 1e-3\n",
    "optimizer = optim.Adam(seq_model.parameters(), lr=learning_rate)"
   ]
  },
  {
   "cell_type": "code",
   "execution_count": 27,
   "metadata": {},
   "outputs": [
    {
     "name": "stdout",
     "output_type": "stream",
     "text": [
      "epoch: 500, loss: 97.82415771484375\n",
      "epoch: 1000, loss: 66.1059341430664\n",
      "epoch: 1500, loss: 50.96023941040039\n",
      "epoch: 2000, loss: 39.82611846923828\n",
      "epoch: 2500, loss: 30.46867561340332\n",
      "epoch: 3000, loss: 22.800405502319336\n",
      "epoch: 3500, loss: 16.87596893310547\n",
      "epoch: 4000, loss: 12.532938957214355\n",
      "epoch: 4500, loss: 9.49013614654541\n",
      "epoch: 5000, loss: 7.413050174713135\n",
      "epoch: 5500, loss: 5.914024829864502\n",
      "epoch: 6000, loss: 4.7731709480285645\n",
      "epoch: 6500, loss: 3.9316160678863525\n",
      "epoch: 7000, loss: 3.34812331199646\n",
      "epoch: 7500, loss: 2.9453318119049072\n",
      "epoch: 8000, loss: 2.6382453441619873\n"
     ]
    }
   ],
   "source": [
    "training_loop_linear(8000, optimizer, t_u_batch, t_c_batch, seq_model, loss_fn=nn.MSELoss())"
   ]
  },
  {
   "cell_type": "code",
   "execution_count": 31,
   "metadata": {},
   "outputs": [
    {
     "data": {
      "text/plain": [
       "[<matplotlib.lines.Line2D at 0x1f0c2d20550>]"
      ]
     },
     "execution_count": 31,
     "metadata": {},
     "output_type": "execute_result"
    },
    {
     "data": {
      "image/png": "[encoded data removed]",
      "text/plain": [
       "<Figure size 576x432 with 1 Axes>"
      ]
     },
     "metadata": {
      "needs_background": "light"
     },
     "output_type": "display_data"
    }
   ],
   "source": [
    "fig, ax = plt.subplots(1, 1, figsize=(8, 6))\n",
    "\n",
    "ax.set_xlabel(\"Data Custom\")\n",
    "ax.set_ylabel(\"Data Celsius\")\n",
    "\n",
    "ax.scatter(data_custom, data_celsius, color=\"orange\")\n",
    "\n",
    "t_p_batch = seq_model(t_u_batch)\n",
    "t_p = t_p_batch.squeeze(1)\n",
    "ax.plot(t_u.numpy(), t_p.detach().numpy())"
   ]
  },
  {
   "cell_type": "code",
   "execution_count": null,
   "metadata": {},
   "outputs": [],
   "source": []
  }
 ],
 "metadata": {
  "kernelspec": {
   "display_name": "Python 3",
   "language": "python",
   "name": "python3"
  },
  "language_info": {
   "codemirror_mode": {
    "name": "ipython",
    "version": 3
   },
   "file_extension": ".py",
   "mimetype": "text/x-python",
   "name": "python",
   "nbconvert_exporter": "python",
   "pygments_lexer": "ipython3",
   "version": "3.8.5"
  }
 },
 "nbformat": 4,
 "nbformat_minor": 4
}
