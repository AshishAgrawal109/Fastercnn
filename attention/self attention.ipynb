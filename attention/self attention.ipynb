{
 "cells": [
  {
   "cell_type": "code",
   "execution_count": 4,
   "id": "6e0aa209",
   "metadata": {},
   "outputs": [],
   "source": [
    "import torch\n",
    "import torch.nn as nn\n",
    "import torch.nn.functional as F"
   ]
  },
  {
   "cell_type": "markdown",
   "id": "113b7f88",
   "metadata": {},
   "source": [
    "### Data Preparation"
   ]
  },
  {
   "cell_type": "code",
   "execution_count": 5,
   "id": "83098fa6",
   "metadata": {},
   "outputs": [
    {
     "name": "stdout",
     "output_type": "stream",
     "text": [
      "[[0, 1, 2, 3, 4, 5, 6, 7, 8], [9, 10, 11, 12, 13, 14], [15, 16, 12, 17], [18, 19, 20, 21, 22, 23, 24]]\n"
     ]
    }
   ],
   "source": [
    "# spam detection!\n",
    "data = ['you won a billion dollars , great work !',\n",
    "        'click here for cs685 midterm answers',\n",
    "       'read important cs685 news',\n",
    "       'send me your bank account info asap']\n",
    "\n",
    "labels = torch.LongTensor([1, 1, 0, 1]) # store ground-truth labels\n",
    "\n",
    "# let's do some preprocessing\n",
    "vocab = {}\n",
    "inputs = []\n",
    "\n",
    "for sentence in data:\n",
    "    idxs = []\n",
    "    sentence = sentence.split()\n",
    "    for word in sentence:\n",
    "        if word not in vocab:\n",
    "            vocab[word] = len(vocab)\n",
    "        idxs.append(vocab[word])\n",
    "    inputs.append(idxs)\n",
    "    \n",
    "print(inputs)"
   ]
  },
  {
   "cell_type": "markdown",
   "id": "93ee681c",
   "metadata": {},
   "source": [
    "### Build the model"
   ]
  },
  {
   "cell_type": "code",
   "execution_count": 29,
   "id": "29ed09a0",
   "metadata": {},
   "outputs": [],
   "source": [
    "class SelfAttentionNN(nn.Module):\n",
    "    \n",
    "    def __init__(self, embedding_dim, vocab_size):\n",
    "        \n",
    "        super().__init__()\n",
    "        self.embedding_dim = embedding_dim\n",
    "        self.embeddings = nn.Embedding(vocab_size, embedding_dim)\n",
    "        \n",
    "        self.Wq = nn.Linear(embedding_dim, embedding_dim) # project to query space\n",
    "        self.Wk = nn.Linear(embedding_dim, embedding_dim) # project to keys\n",
    "        self.Wv = nn.Linear(embedding_dim, embedding_dim) # project to values\n",
    "        \n",
    "        # the final classification layer\n",
    "        self.cls = nn.Linear(embedding_dim, 2)\n",
    "        \n",
    "    # all three args are T x embedding_dim matrices!\n",
    "    def dot_product_attn(self, q, k, v):\n",
    "        scores = q @ k.t() # gets all dot products at once, T X T\n",
    "        scores = F.softmax(scores, dim=1)\n",
    "        return scores @ v # T x embedding_dim\n",
    "    \n",
    "    # you can implement the three below for fun!\n",
    "    def bilinear_attn(self, q, k):\n",
    "        pass\n",
    "    \n",
    "    def scaled_dot_product_attn(self, q, k):\n",
    "        pass\n",
    "        \n",
    "    def mlp_attn(self, q, k):\n",
    "        pass\n",
    "        \n",
    "    def forward(self, inpt_sentence):\n",
    "        T = inpt_sentence.size(0) # number of tokens in input, assume T > 2\n",
    "        word_embeds = self.embeddings(inpt_sentence) # T x embedding_dim\n",
    "        \n",
    "        queries = self.Wq(word_embeds) #  T x embedding_dim\n",
    "        keys = self.Wk(word_embeds) #  T x embedding_dim\n",
    "        values = self.Wv(word_embeds) #  T x embedding_dim\n",
    "\n",
    "        # efficient attention computation\n",
    "        attn_reps = self.dot_product_attn(queries, keys, values)\n",
    "\n",
    "        # compose attn_reps into a single vector\n",
    "        attn_reps = torch.mean(attn_reps, dim=0)\n",
    "\n",
    "        pred = self.cls(attn_reps) # return logits\n",
    "        return pred.unsqueeze(0)"
   ]
  },
  {
   "cell_type": "markdown",
   "id": "c961e478",
   "metadata": {},
   "source": [
    "#### Test Inference"
   ]
  },
  {
   "cell_type": "code",
   "execution_count": 30,
   "id": "aa1d4b2c",
   "metadata": {},
   "outputs": [],
   "source": [
    "embedding_dim = 32\n",
    "vocab_size = len(vocab)"
   ]
  },
  {
   "cell_type": "code",
   "execution_count": 31,
   "id": "cef5dd0f",
   "metadata": {},
   "outputs": [],
   "source": [
    "model = SelfAttentionNN(embedding_dim, vocab_size)"
   ]
  },
  {
   "cell_type": "code",
   "execution_count": 32,
   "id": "2207e18b",
   "metadata": {},
   "outputs": [
    {
     "ename": "TypeError",
     "evalue": "scaled_dot_product_attn() takes 3 positional arguments but 4 were given",
     "output_type": "error",
     "traceback": [
      "\u001b[0;31m---------------------------------------------------------------------------\u001b[0m",
      "\u001b[0;31mTypeError\u001b[0m                                 Traceback (most recent call last)",
      "Input \u001b[0;32mIn [32]\u001b[0m, in \u001b[0;36m<cell line: 3>\u001b[0;34m()\u001b[0m\n\u001b[1;32m      1\u001b[0m sample_input \u001b[38;5;241m=\u001b[39m torch\u001b[38;5;241m.\u001b[39mLongTensor([\u001b[38;5;241m1\u001b[39m, \u001b[38;5;241m2\u001b[39m, \u001b[38;5;241m3\u001b[39m, \u001b[38;5;241m4\u001b[39m])\n\u001b[1;32m      3\u001b[0m \u001b[38;5;28;01mwith\u001b[39;00m torch\u001b[38;5;241m.\u001b[39mno_grad():\n\u001b[0;32m----> 4\u001b[0m     out \u001b[38;5;241m=\u001b[39m \u001b[43mmodel\u001b[49m\u001b[43m(\u001b[49m\u001b[43msample_input\u001b[49m\u001b[43m)\u001b[49m\n\u001b[1;32m      5\u001b[0m     \u001b[38;5;28mprint\u001b[39m(out)\n",
      "File \u001b[0;32m~/opt/anaconda3/envs/pytorch/lib/python3.9/site-packages/torch/nn/modules/module.py:1110\u001b[0m, in \u001b[0;36mModule._call_impl\u001b[0;34m(self, *input, **kwargs)\u001b[0m\n\u001b[1;32m   1106\u001b[0m \u001b[38;5;66;03m# If we don't have any hooks, we want to skip the rest of the logic in\u001b[39;00m\n\u001b[1;32m   1107\u001b[0m \u001b[38;5;66;03m# this function, and just call forward.\u001b[39;00m\n\u001b[1;32m   1108\u001b[0m \u001b[38;5;28;01mif\u001b[39;00m \u001b[38;5;129;01mnot\u001b[39;00m (\u001b[38;5;28mself\u001b[39m\u001b[38;5;241m.\u001b[39m_backward_hooks \u001b[38;5;129;01mor\u001b[39;00m \u001b[38;5;28mself\u001b[39m\u001b[38;5;241m.\u001b[39m_forward_hooks \u001b[38;5;129;01mor\u001b[39;00m \u001b[38;5;28mself\u001b[39m\u001b[38;5;241m.\u001b[39m_forward_pre_hooks \u001b[38;5;129;01mor\u001b[39;00m _global_backward_hooks\n\u001b[1;32m   1109\u001b[0m         \u001b[38;5;129;01mor\u001b[39;00m _global_forward_hooks \u001b[38;5;129;01mor\u001b[39;00m _global_forward_pre_hooks):\n\u001b[0;32m-> 1110\u001b[0m     \u001b[38;5;28;01mreturn\u001b[39;00m \u001b[43mforward_call\u001b[49m\u001b[43m(\u001b[49m\u001b[38;5;241;43m*\u001b[39;49m\u001b[38;5;28;43minput\u001b[39;49m\u001b[43m,\u001b[49m\u001b[43m \u001b[49m\u001b[38;5;241;43m*\u001b[39;49m\u001b[38;5;241;43m*\u001b[39;49m\u001b[43mkwargs\u001b[49m\u001b[43m)\u001b[49m\n\u001b[1;32m   1111\u001b[0m \u001b[38;5;66;03m# Do not call functions when jit is used\u001b[39;00m\n\u001b[1;32m   1112\u001b[0m full_backward_hooks, non_full_backward_hooks \u001b[38;5;241m=\u001b[39m [], []\n",
      "Input \u001b[0;32mIn [29]\u001b[0m, in \u001b[0;36mSelfAttentionNN.forward\u001b[0;34m(self, inpt_sentence)\u001b[0m\n\u001b[1;32m     40\u001b[0m values \u001b[38;5;241m=\u001b[39m \u001b[38;5;28mself\u001b[39m\u001b[38;5;241m.\u001b[39mWv(word_embeds) \u001b[38;5;66;03m#  T x embedding_dim\u001b[39;00m\n\u001b[1;32m     42\u001b[0m \u001b[38;5;66;03m# efficient attention computation\u001b[39;00m\n\u001b[0;32m---> 43\u001b[0m attn_reps \u001b[38;5;241m=\u001b[39m \u001b[38;5;28;43mself\u001b[39;49m\u001b[38;5;241;43m.\u001b[39;49m\u001b[43mscaled_dot_product_attn\u001b[49m\u001b[43m(\u001b[49m\u001b[43mqueries\u001b[49m\u001b[43m,\u001b[49m\u001b[43m \u001b[49m\u001b[43mkeys\u001b[49m\u001b[43m,\u001b[49m\u001b[43m \u001b[49m\u001b[43mvalues\u001b[49m\u001b[43m)\u001b[49m\n\u001b[1;32m     45\u001b[0m \u001b[38;5;66;03m# compose attn_reps into a single vector\u001b[39;00m\n\u001b[1;32m     46\u001b[0m attn_reps \u001b[38;5;241m=\u001b[39m torch\u001b[38;5;241m.\u001b[39mmean(attn_reps, dim\u001b[38;5;241m=\u001b[39m\u001b[38;5;241m0\u001b[39m)\n",
      "\u001b[0;31mTypeError\u001b[0m: scaled_dot_product_attn() takes 3 positional arguments but 4 were given"
     ]
    }
   ],
   "source": [
    "sample_input = torch.LongTensor([1, 2, 3, 4])\n",
    "\n",
    "with torch.no_grad():\n",
    "    out = model(sample_input)\n",
    "    print(out)"
   ]
  },
  {
   "cell_type": "markdown",
   "id": "3bb039b9",
   "metadata": {},
   "source": [
    "### Train the model"
   ]
  },
  {
   "cell_type": "code",
   "execution_count": 27,
   "id": "f78f70fe",
   "metadata": {},
   "outputs": [],
   "source": [
    "num_epochs = 10\n",
    "loss_fn = nn.CrossEntropyLoss()\n",
    "optim = torch.optim.SGD(model.parameters(), lr = 0.1)"
   ]
  },
  {
   "cell_type": "code",
   "execution_count": 28,
   "id": "ba52a9ee",
   "metadata": {},
   "outputs": [
    {
     "name": "stdout",
     "output_type": "stream",
     "text": [
      "0 2.6828522086143494\n",
      "1 1.2479999959468842\n",
      "2 0.622067891061306\n",
      "3 0.35605185478925705\n",
      "4 0.22228999715298414\n",
      "5 0.1502213655039668\n",
      "6 0.10932285943999887\n",
      "7 0.08394852373749018\n",
      "8 0.0670850039459765\n",
      "9 0.05523752490989864\n"
     ]
    }
   ],
   "source": [
    "# training loop\n",
    "for epoch in range(num_epochs):\n",
    "    ep_loss = 0. # loss per epoch\n",
    "        \n",
    "    for i in range(len(inputs)):\n",
    "        # get input sentence and target label\n",
    "        inpt_sentence = torch.LongTensor(inputs[i])\n",
    "        target = labels[i].unsqueeze(0)\n",
    "        \n",
    "        pred = model(inpt_sentence)\n",
    "        loss = loss_fn(pred, target)\n",
    "        \n",
    "        optim.zero_grad()\n",
    "        loss.backward()\n",
    "        optim.step()\n",
    "        \n",
    "        ep_loss += loss.item()\n",
    "    \n",
    "    print(epoch, ep_loss)"
   ]
  },
  {
   "cell_type": "code",
   "execution_count": null,
   "id": "9914a28c",
   "metadata": {},
   "outputs": [],
   "source": []
  }
 ],
 "metadata": {
  "kernelspec": {
   "display_name": "Python 3 (ipykernel)",
   "language": "python",
   "name": "python3"
  },
  "language_info": {
   "codemirror_mode": {
    "name": "ipython",
    "version": 3
   },
   "file_extension": ".py",
   "mimetype": "text/x-python",
   "name": "python",
   "nbconvert_exporter": "python",
   "pygments_lexer": "ipython3",
   "version": "3.9.12"
  }
 },
 "nbformat": 4,
 "nbformat_minor": 5
}
