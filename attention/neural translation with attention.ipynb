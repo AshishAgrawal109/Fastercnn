{
 "cells": [
  {
   "cell_type": "markdown",
   "id": "cd193f93",
   "metadata": {},
   "source": [
    "## Neural Language Translation with Attention"
   ]
  },
  {
   "cell_type": "markdown",
   "id": "39e0df5a",
   "metadata": {},
   "source": [
    "#### Reference\n",
    "https://pytorch.org/tutorials/intermediate/seq2seq_translation_tutorial.html#loading-data-files"
   ]
  },
  {
   "cell_type": "code",
   "execution_count": 36,
   "id": "bdbf0644",
   "metadata": {},
   "outputs": [],
   "source": [
    "from __future__ import unicode_literals, print_function, division\n",
    "from io import open\n",
    "import unicodedata\n",
    "import string\n",
    "import re\n",
    "import random\n",
    "from tqdm import tqdm\n",
    "import matplotlib.pyplot as plt\n",
    "import matplotlib.ticker as ticker\n",
    "import numpy as np\n",
    "\n",
    "import torch\n",
    "import torch.nn as nn\n",
    "from torch import optim\n",
    "import torch.nn.functional as F"
   ]
  },
  {
   "cell_type": "markdown",
   "id": "ec53eb2a",
   "metadata": {},
   "source": [
    "### Define Helper Functions"
   ]
  },
  {
   "cell_type": "code",
   "execution_count": 3,
   "id": "6eeae099",
   "metadata": {},
   "outputs": [],
   "source": [
    "SOS_token = 0\n",
    "EOS_token = 1\n",
    "\n",
    "class Language:\n",
    "    def __init__(self, name):\n",
    "        self.name = name\n",
    "        self.word2idx = {\"SOS\": 0, \"EOS\": 1}\n",
    "        self.word2count = {}\n",
    "        self.idx2word = {0: \"SOS\", 1: \"EOS\"}\n",
    "        self.n_words = 2 # include SOS and EOS tokens\n",
    "        \n",
    "    def add_sentence(self, sentence):\n",
    "        for word in sentence.split(\" \"):\n",
    "            self.add_word(word)\n",
    "        \n",
    "    def add_word(self, word):\n",
    "        if word not in self.word2idx:\n",
    "            self.word2idx[word] = self.n_words\n",
    "            self.idx2word[self.n_words] = word\n",
    "            self.word2count[word] = 1\n",
    "            self.n_words += 1\n",
    "        else:\n",
    "            self.word2count[word] += 1"
   ]
  },
  {
   "cell_type": "code",
   "execution_count": 4,
   "id": "d1d7bbcf",
   "metadata": {},
   "outputs": [],
   "source": [
    "def unicodeToAscii(s):\n",
    "    '''\n",
    "    Turn a Unicode string to plain ASCII\n",
    "    '''\n",
    "    return ''.join(\n",
    "        c for c in unicodedata.normalize('NFD', s)\n",
    "        if unicodedata.category(c) != 'Mn'\n",
    "    )\n",
    "\n",
    "def normalizeString(s):\n",
    "    '''\n",
    "    Lowercase, trim, and remove non-letter characters\n",
    "    '''\n",
    "    s = unicodeToAscii(s.lower().strip())\n",
    "    s = re.sub(r\"([.!?])\", r\" \\1\", s)\n",
    "    s = re.sub(r\"[^a-zA-Z.!?]+\", r\" \", s)\n",
    "    return s"
   ]
  },
  {
   "cell_type": "code",
   "execution_count": 5,
   "id": "4889087b",
   "metadata": {},
   "outputs": [],
   "source": [
    "def read_languages(lang1, lang2, reverse=False):\n",
    "    print(\"Reading lines...\")\n",
    "    \n",
    "    with open(\"data/{0}-{1}.txt\".format(lang1, lang2), encoding='utf-8') as f:\n",
    "        pairs = []\n",
    "        for line in f.readlines():\n",
    "            line = line.strip()\n",
    "            \n",
    "            # split the line into lang1 - lang2 pair and normalize them\n",
    "            pair = [normalizeString(s) for s in line.split(\"\\t\")]\n",
    "            pairs.append(pair)\n",
    "            \n",
    "    # Reverse pairs and make Language instances\n",
    "    if reverse:\n",
    "        pairs = [list(reversed(p)) for p in pairs]\n",
    "        input_lang = Language(lang2)\n",
    "        output_lang = Language(lang1)\n",
    "    else:\n",
    "        input_lang = Language(lang1)\n",
    "        output_lang = Language(lang2)\n",
    "\n",
    "    return input_lang, output_lang, pairs"
   ]
  },
  {
   "cell_type": "markdown",
   "id": "7338a2ca",
   "metadata": {},
   "source": [
    "Trim the dataset to include only shorter sentences that start with the given prefixes"
   ]
  },
  {
   "cell_type": "code",
   "execution_count": 6,
   "id": "ba7bbdc5",
   "metadata": {},
   "outputs": [],
   "source": [
    "# the sentence should be shorter than the max length\n",
    "MAX_LENGTH = 10\n",
    "\n",
    "# the english sentence should start with the given prefixes\n",
    "eng_prefixes = (\n",
    "    \"i am \", \"i m \",\n",
    "    \"he is\", \"he s \",\n",
    "    \"she is\", \"she s \",\n",
    "    \"you are\", \"you re \",\n",
    "    \"we are\", \"we re \",\n",
    "    \"they are\", \"they re \"\n",
    ")\n",
    "\n",
    "\n",
    "def filterPair(p):\n",
    "    return len(p[0].split(' ')) < MAX_LENGTH and \\\n",
    "        len(p[1].split(' ')) < MAX_LENGTH and \\\n",
    "        p[1].startswith(eng_prefixes)\n",
    "\n",
    "\n",
    "def filterPairs(pairs):\n",
    "    return [pair for pair in pairs if filterPair(pair)]"
   ]
  },
  {
   "cell_type": "markdown",
   "id": "4516c87a",
   "metadata": {},
   "source": [
    "### Data Preparation"
   ]
  },
  {
   "cell_type": "code",
   "execution_count": 7,
   "id": "07d3721f",
   "metadata": {},
   "outputs": [
    {
     "name": "stdout",
     "output_type": "stream",
     "text": [
      "Reading lines...\n",
      "Read 135842 sentence pairs\n",
      "Trimmed to 10599 sentence pairs\n",
      "Counting words...\n",
      "Counted words:\n",
      "fra 4345\n",
      "eng 2803\n",
      "['je ne suis pas ce genre de gars .', 'i m not that type of guy .']\n"
     ]
    }
   ],
   "source": [
    "def prepareData(lang1, lang2, reverse=False):\n",
    "    input_lang, output_lang, pairs = read_languages(lang1, lang2, reverse)\n",
    "    print(\"Read %s sentence pairs\" % len(pairs))\n",
    "    pairs = filterPairs(pairs)\n",
    "    print(\"Trimmed to %s sentence pairs\" % len(pairs))\n",
    "    print(\"Counting words...\")\n",
    "    for pair in pairs:\n",
    "        input_lang.add_sentence(pair[0])\n",
    "        output_lang.add_sentence(pair[1])\n",
    "    print(\"Counted words:\")\n",
    "    print(input_lang.name, input_lang.n_words)\n",
    "    print(output_lang.name, output_lang.n_words)\n",
    "    return input_lang, output_lang, pairs\n",
    "\n",
    "\n",
    "input_lang, output_lang, pairs = prepareData('eng', 'fra', True)\n",
    "print(random.choice(pairs))"
   ]
  },
  {
   "cell_type": "markdown",
   "id": "acbc8398",
   "metadata": {},
   "source": [
    "### Building the Model"
   ]
  },
  {
   "cell_type": "code",
   "execution_count": 8,
   "id": "752761c2",
   "metadata": {},
   "outputs": [],
   "source": [
    "class EncoderRNN(nn.Module):\n",
    "    def __init__(self, vocab_size, embedding_size, hidden_size):\n",
    "        '''\n",
    "        Parameters\n",
    "        ----------\n",
    "        vocab_size - int\n",
    "            Vocabulary size of the input language\n",
    "        hidden_size - int\n",
    "            Size of the hidden state of rnn\n",
    "        embedding_size - int\n",
    "            Size of the embedding dim\n",
    "        '''\n",
    "        super().__init__()\n",
    "        self.hidden_size = hidden_size\n",
    "        self.embedding_size = embedding_size\n",
    "        \n",
    "        self.embedding = nn.Embedding(vocab_size, self.embedding_size)\n",
    "        self.lstm = nn.LSTM(self.embedding_size, hidden_size, batch_first=True)\n",
    "\n",
    "    def forward(self, sentence, hidden):\n",
    "        '''\n",
    "        Parameters\n",
    "        -----------\n",
    "        sentence - torch.Tensor([], dtype=int64)\n",
    "            idxs of words in a sentence\n",
    "        hidden - (torch.Tensor([1, 1, hidden_size], dtype=float32), \n",
    "                  torch.Tensor([1, 1, hidden_size], dtype=float32)), \n",
    "            previous hidden state\n",
    "        '''\n",
    "        sentence_length = sentence.size(0)\n",
    "        word_embeds = self.embedding(sentence)\n",
    "        out = word_embeds.view(1, sentence_length, self.embedding_size)\n",
    "        lstm_out, hidden = self.lstm(out, hidden)\n",
    "        return lstm_out, hidden\n",
    "\n",
    "    def init_hidden(self):\n",
    "        return (torch.zeros(1, 1, self.hidden_size, dtype=torch.float32),\n",
    "                torch.zeros(1, 1, self.hidden_size, dtype=torch.float32))"
   ]
  },
  {
   "cell_type": "code",
   "execution_count": 9,
   "id": "f65fffc1",
   "metadata": {},
   "outputs": [],
   "source": [
    "class AttnDecoderRNN(nn.Module):\n",
    "    def __init__(self, vocab_size, embedding_size, hidden_size, dropout_p=0.1, max_length=MAX_LENGTH):\n",
    "        super().__init__()\n",
    "        self.hidden_size = hidden_size\n",
    "        self.embedding_size = embedding_size\n",
    "        self.vocab_size = vocab_size\n",
    "        self.dropout_p = dropout_p\n",
    "        self.max_length = max_length\n",
    "\n",
    "        self.embedding = nn.Embedding(self.vocab_size, self.embedding_size)\n",
    "        # network to compute attention scores\n",
    "        self.attn = nn.Linear(self.embedding_size + self.hidden_size,\n",
    "                              self.max_length)\n",
    "        self.attn_combine = nn.Linear(self.embedding_size + self.hidden_size,\n",
    "                                      self.embedding_size)\n",
    "        \n",
    "        self.dropout = nn.Dropout(self.dropout_p)\n",
    "        self.lstm = nn.LSTMCell(self.embedding_size, self.hidden_size)\n",
    "        self.fc = nn.Linear(self.hidden_size, self.vocab_size)\n",
    "\n",
    "    def forward(self, word, hidden, encoder_outputs):\n",
    "        embed = self.embedding(word)\n",
    "        embed = self.dropout(embed)\n",
    "        \n",
    "        # compute attention scores\n",
    "        combine_vector = torch.cat((embed, hidden[0]), dim=1)\n",
    "        attn_weights = F.softmax(self.attn(combine_vector), dim=1)\n",
    "                \n",
    "        # apply attention scores to encoders and get final attention vector\n",
    "        attn_applied = attn_weights @ encoder_outputs\n",
    "        \n",
    "        out = torch.cat((embed, attn_applied), 1)\n",
    "        out = self.attn_combine(out)\n",
    "\n",
    "        out = F.relu(out)\n",
    "        hidden = self.lstm(out, hidden)\n",
    "                \n",
    "        out = F.log_softmax(self.fc(hidden[0]), dim=1)\n",
    "        return out, hidden, attn_weights\n",
    "\n",
    "    def init_hidden(self):\n",
    "        return (torch.zeros(1, self.hidden_size, dtype=torch.float32),\n",
    "                torch.zeros(1, self.hidden_size, dtype=torch.float32))"
   ]
  },
  {
   "cell_type": "markdown",
   "id": "8d02b830",
   "metadata": {},
   "source": [
    "#### Intialize Models"
   ]
  },
  {
   "cell_type": "code",
   "execution_count": 10,
   "id": "f9b685f3",
   "metadata": {},
   "outputs": [],
   "source": [
    "EMBEDDING_SIZE = 64\n",
    "HIDDEN_SIZE = 128\n",
    "INP_VOCAB_SIZE = input_lang.n_words\n",
    "OUT_VOCAB_SIZE = output_lang.n_words"
   ]
  },
  {
   "cell_type": "code",
   "execution_count": 11,
   "id": "2c8edce3",
   "metadata": {},
   "outputs": [],
   "source": [
    "encoder = EncoderRNN(INP_VOCAB_SIZE, EMBEDDING_SIZE, HIDDEN_SIZE)\n",
    "decoder = AttnDecoderRNN(OUT_VOCAB_SIZE, EMBEDDING_SIZE, HIDDEN_SIZE)"
   ]
  },
  {
   "cell_type": "markdown",
   "id": "f947e1aa",
   "metadata": {},
   "source": [
    "### Training the model"
   ]
  },
  {
   "cell_type": "markdown",
   "id": "653d57b3",
   "metadata": {},
   "source": [
    "#### Define helper functions"
   ]
  },
  {
   "cell_type": "code",
   "execution_count": 12,
   "id": "ba3bd8cb",
   "metadata": {},
   "outputs": [],
   "source": [
    "def idx_from_sentence(lang, sentence):\n",
    "    return [lang.word2idx[word] for word in sentence.split(' ')]\n",
    "\n",
    "def tensor_from_sentence(lang, sentence):\n",
    "    sentence_idxs = idx_from_sentence(lang, sentence)\n",
    "    sentence_idxs.append(EOS_token)\n",
    "    return torch.tensor(sentence_idxs, dtype=torch.int64).view(-1, 1)\n",
    "\n",
    "def tensors_from_pair(pair):\n",
    "    input_tensor = tensor_from_sentence(input_lang, pair[0])\n",
    "    target_tensor = tensor_from_sentence(output_lang, pair[1])\n",
    "    return (input_tensor, target_tensor)"
   ]
  },
  {
   "cell_type": "markdown",
   "id": "f195c21b",
   "metadata": {},
   "source": [
    "#### test inference"
   ]
  },
  {
   "cell_type": "code",
   "execution_count": 13,
   "id": "e6b196ee",
   "metadata": {},
   "outputs": [],
   "source": [
    "sample_pair = pairs[random.randint(1, 100)]\n",
    "inpt_tensor, tgt_tensor = tensors_from_pair(sample_pair)"
   ]
  },
  {
   "cell_type": "code",
   "execution_count": 14,
   "id": "2bfe6d82",
   "metadata": {},
   "outputs": [],
   "source": [
    "# compute encoder outputs\n",
    "encoder_outputs = torch.zeros(decoder.max_length, encoder.hidden_size)\n",
    "\n",
    "encoder_hidden = encoder.init_hidden()\n",
    "lstm_out, encoder_hidden = encoder(inpt_tensor, encoder_hidden)\n",
    "\n",
    "lstm_out = lstm_out.flatten(0, 1)\n",
    "sen_length = lstm_out.size(0)\n",
    "encoder_outputs[:sen_length, :] = lstm_out"
   ]
  },
  {
   "cell_type": "code",
   "execution_count": 15,
   "id": "3137c166",
   "metadata": {},
   "outputs": [],
   "source": [
    "# computer decoder outputs\n",
    "\n",
    "decoder_input = torch.tensor([SOS_token], dtype=torch.int64)\n",
    "decoder_hidden = (encoder_hidden[0][0], encoder_hidden[1][0])"
   ]
  },
  {
   "cell_type": "code",
   "execution_count": 16,
   "id": "8375b213",
   "metadata": {},
   "outputs": [],
   "source": [
    "decoder_output, decoder_hidden, decoder_attention = decoder(\n",
    "    decoder_input, decoder_hidden, encoder_outputs)"
   ]
  },
  {
   "cell_type": "markdown",
   "id": "5cd3f8fe",
   "metadata": {},
   "source": [
    "#### Define training functions"
   ]
  },
  {
   "cell_type": "code",
   "execution_count": 17,
   "id": "064724fa",
   "metadata": {},
   "outputs": [],
   "source": [
    "teacher_forcing_ratio = 0.5\n",
    "\n",
    "\n",
    "def train_pair(input_tensor, target_tensor, encoder, decoder, encoder_optimizer, decoder_optimizer, criterion):\n",
    "    \n",
    "    # clear gradient\n",
    "    encoder_optimizer.zero_grad()\n",
    "    decoder_optimizer.zero_grad()\n",
    "    \n",
    "    # get input and target sequence length\n",
    "    input_length = input_tensor.size(0)\n",
    "    target_length = target_tensor.size(0)\n",
    "    \n",
    "    # compute encoder outputs\n",
    "    encoder_outputs = torch.zeros(decoder.max_length, encoder.hidden_size)\n",
    "\n",
    "    encoder_hidden = encoder.init_hidden()\n",
    "    lstm_out, encoder_hidden = encoder(input_tensor, encoder_hidden)\n",
    "\n",
    "    lstm_out = lstm_out.flatten(0, 1)\n",
    "    encoder_outputs[:input_length, :] = lstm_out\n",
    "\n",
    "    # initialize loss\n",
    "    loss = 0\n",
    "    \n",
    "    # compute decoder outputs\n",
    "\n",
    "    decoder_input = torch.tensor([SOS_token], dtype=torch.int64)\n",
    "    \n",
    "    decoder_hidden = (encoder_hidden[0][0], encoder_hidden[1][0])\n",
    "\n",
    "    use_teacher_forcing = True if random.random() < teacher_forcing_ratio else False\n",
    "\n",
    "    if use_teacher_forcing:\n",
    "        # Teacher forcing: Feed the target as the next input\n",
    "        for di in range(target_length):\n",
    "            decoder_output, decoder_hidden, decoder_attention = decoder(\n",
    "                decoder_input, decoder_hidden, encoder_outputs)\n",
    "            loss += criterion(decoder_output, target_tensor[di])\n",
    "            decoder_input = target_tensor[di]  # Teacher forcing\n",
    "\n",
    "    else:\n",
    "        # Without teacher forcing: use its own predictions as the next input\n",
    "        for di in range(target_length):\n",
    "            decoder_output, decoder_hidden, decoder_attention = decoder(\n",
    "                decoder_input, decoder_hidden, encoder_outputs)\n",
    "            \n",
    "            # get word with top probability\n",
    "            top_val, top_idx = decoder_output.topk(1)\n",
    "            decoder_input = top_idx.detach()[0]  # detach from history as input\n",
    "\n",
    "            loss += criterion(decoder_output, target_tensor[di])\n",
    "            \n",
    "            if decoder_input.item() == EOS_token:\n",
    "                break\n",
    "\n",
    "    loss.backward()\n",
    "\n",
    "    encoder_optimizer.step()\n",
    "    decoder_optimizer.step()\n",
    "\n",
    "    return loss.item() / target_length"
   ]
  },
  {
   "cell_type": "code",
   "execution_count": 18,
   "id": "f8226c34",
   "metadata": {},
   "outputs": [],
   "source": [
    "learning_rate=0.01\n",
    "encoder_optimizer = optim.SGD(encoder.parameters(), lr=learning_rate)\n",
    "decoder_optimizer = optim.SGD(decoder.parameters(), lr=learning_rate)\n",
    "criterion = nn.NLLLoss()"
   ]
  },
  {
   "cell_type": "code",
   "execution_count": 26,
   "id": "ac1d39b6",
   "metadata": {},
   "outputs": [],
   "source": [
    "def train_one_epoch(encoder, decoder, pairs):\n",
    "    \n",
    "    loss_per_epoch = 0\n",
    "    \n",
    "    # get training pairs\n",
    "    random.shuffle(pairs)\n",
    "    training_pairs = [tensors_from_pair(pair) for pair in pairs]\n",
    "    \n",
    "    for i in tqdm(range(1, len(pairs) + 1)):\n",
    "        training_pair = training_pairs[i-1]\n",
    "        input_tensor = training_pair[0]\n",
    "        target_tensor = training_pair[1]\n",
    "\n",
    "        loss_per_pair = train_pair(input_tensor, target_tensor, encoder,\n",
    "                     decoder, encoder_optimizer, decoder_optimizer, criterion)\n",
    "        \n",
    "        loss_per_epoch += loss_per_pair\n",
    "\n",
    "    return loss_per_epoch / len(pairs)"
   ]
  },
  {
   "cell_type": "code",
   "execution_count": 28,
   "id": "6573209b",
   "metadata": {},
   "outputs": [
    {
     "name": "stderr",
     "output_type": "stream",
     "text": [
      "100%|███████████████████████████████████████████████████████████████████████████████████████████████████████████████████████| 10599/10599 [02:03<00:00, 85.85it/s]\n",
      "100%|███████████████████████████████████████████████████████████████████████████████████████████████████████████████████████| 10599/10599 [02:12<00:00, 79.72it/s]\n",
      "100%|███████████████████████████████████████████████████████████████████████████████████████████████████████████████████████| 10599/10599 [02:12<00:00, 80.10it/s]\n",
      "100%|███████████████████████████████████████████████████████████████████████████████████████████████████████████████████████| 10599/10599 [02:10<00:00, 81.39it/s]\n",
      "100%|███████████████████████████████████████████████████████████████████████████████████████████████████████████████████████| 10599/10599 [02:06<00:00, 83.86it/s]\n",
      "100%|███████████████████████████████████████████████████████████████████████████████████████████████████████████████████████| 10599/10599 [02:05<00:00, 84.44it/s]\n",
      "100%|███████████████████████████████████████████████████████████████████████████████████████████████████████████████████████| 10599/10599 [02:09<00:00, 82.15it/s]\n",
      "100%|███████████████████████████████████████████████████████████████████████████████████████████████████████████████████████| 10599/10599 [02:09<00:00, 81.86it/s]\n",
      "100%|███████████████████████████████████████████████████████████████████████████████████████████████████████████████████████| 10599/10599 [02:06<00:00, 83.77it/s]\n",
      "100%|███████████████████████████████████████████████████████████████████████████████████████████████████████████████████████| 10599/10599 [02:08<00:00, 82.77it/s]\n",
      "100%|███████████████████████████████████████████████████████████████████████████████████████████████████████████████████████| 10599/10599 [02:08<00:00, 82.31it/s]\n",
      "100%|███████████████████████████████████████████████████████████████████████████████████████████████████████████████████████| 10599/10599 [02:10<00:00, 81.48it/s]\n",
      "100%|███████████████████████████████████████████████████████████████████████████████████████████████████████████████████████| 10599/10599 [02:06<00:00, 83.66it/s]\n",
      "100%|███████████████████████████████████████████████████████████████████████████████████████████████████████████████████████| 10599/10599 [02:09<00:00, 81.99it/s]\n",
      "100%|███████████████████████████████████████████████████████████████████████████████████████████████████████████████████████| 10599/10599 [02:10<00:00, 81.39it/s]\n",
      "100%|███████████████████████████████████████████████████████████████████████████████████████████████████████████████████████| 10599/10599 [02:10<00:00, 81.31it/s]\n",
      "100%|███████████████████████████████████████████████████████████████████████████████████████████████████████████████████████| 10599/10599 [02:15<00:00, 78.20it/s]\n",
      "100%|███████████████████████████████████████████████████████████████████████████████████████████████████████████████████████| 10599/10599 [02:11<00:00, 80.34it/s]\n",
      "100%|███████████████████████████████████████████████████████████████████████████████████████████████████████████████████████| 10599/10599 [02:10<00:00, 81.16it/s]\n",
      "100%|███████████████████████████████████████████████████████████████████████████████████████████████████████████████████████| 10599/10599 [02:13<00:00, 79.49it/s]\n"
     ]
    }
   ],
   "source": [
    "n_epochs = 20\n",
    "losses = []\n",
    "for i in range(n_epochs):\n",
    "    loss = train_one_epoch(encoder, decoder, pairs)\n",
    "    losses.append(loss)"
   ]
  },
  {
   "cell_type": "code",
   "execution_count": 39,
   "id": "452fbfe6",
   "metadata": {},
   "outputs": [
    {
     "data": {
      "text/plain": [
       "[<matplotlib.lines.Line2D at 0x7fb2abe80a00>]"
      ]
     },
     "execution_count": 39,
     "metadata": {},
     "output_type": "execute_result"
    },
    {
     "data": {
      "image/png": "[encoded data removed]",
      "text/plain": [
       "<Figure size 432x288 with 1 Axes>"
      ]
     },
     "metadata": {
      "needs_background": "light"
     },
     "output_type": "display_data"
    }
   ],
   "source": [
    "plt.plot(losses)"
   ]
  },
  {
   "cell_type": "markdown",
   "id": "16cd9a32",
   "metadata": {},
   "source": [
    "### Evaluation"
   ]
  },
  {
   "cell_type": "code",
   "execution_count": 29,
   "id": "9a29d869",
   "metadata": {},
   "outputs": [],
   "source": [
    "def evaluate(encoder, decoder, sentence):\n",
    "    with torch.no_grad():\n",
    "        \n",
    "       # get input sentence\n",
    "        input_tensor = tensor_from_sentence(input_lang, sentence)\n",
    "        input_length = input_tensor.size(0)\n",
    "\n",
    "        # compute encoder outputs\n",
    "        encoder_outputs = torch.zeros(decoder.max_length, encoder.hidden_size)\n",
    "\n",
    "        encoder_hidden = encoder.init_hidden()\n",
    "        lstm_out, encoder_hidden = encoder(input_tensor, encoder_hidden)\n",
    "\n",
    "        lstm_out = lstm_out.flatten(0, 1)\n",
    "        encoder_outputs[:input_length, :] = lstm_out\n",
    "\n",
    "        # compute decoder outputs\n",
    "        decoder_input = torch.tensor([SOS_token], dtype=torch.int64)\n",
    "\n",
    "        decoder_hidden = (encoder_hidden[0][0], encoder_hidden[1][0])\n",
    "\n",
    "        decoded_words = []\n",
    "        decoder_attentions = torch.zeros(decoder.max_length,\n",
    "                                         decoder.max_length)\n",
    "\n",
    "        for di in range(decoder.max_length):\n",
    "            decoder_output, decoder_hidden, decoder_attention = decoder(\n",
    "                decoder_input, decoder_hidden, encoder_outputs)\n",
    "            \n",
    "            decoder_attentions[di] = decoder_attention.data\n",
    "            top_val, top_idx = decoder_output.data.topk(1)\n",
    "            \n",
    "            if top_idx.item() == EOS_token:\n",
    "                decoded_words.append('<EOS>')\n",
    "                break\n",
    "            else:\n",
    "                decoded_words.append(output_lang.idx2word[top_idx.item()])\n",
    "\n",
    "            decoder_input = top_idx.detach()[0]\n",
    "\n",
    "        return decoded_words, decoder_attentions[:di + 1]"
   ]
  },
  {
   "cell_type": "code",
   "execution_count": 30,
   "id": "58e707a8",
   "metadata": {},
   "outputs": [],
   "source": [
    "def evaluate_at_random(encoder, decoder, n=10):\n",
    "    for i in range(n):\n",
    "        pair = random.choice(pairs)\n",
    "        print('>', pair[0])\n",
    "        print('=', pair[1])\n",
    "        output_words, attentions = evaluate(encoder, decoder, pair[0])\n",
    "        output_sentence = ' '.join(output_words)\n",
    "        print('<', output_sentence)\n",
    "        print('')"
   ]
  },
  {
   "cell_type": "code",
   "execution_count": 35,
   "id": "9179c172",
   "metadata": {},
   "outputs": [
    {
     "name": "stdout",
     "output_type": "stream",
     "text": [
      "> il est aime de tous .\n",
      "= he is liked by everybody .\n",
      "< he is crazy by everybody . <EOS>\n",
      "\n",
      "> je suis prete si tu l es .\n",
      "= i m ready if you are .\n",
      "< i m ready if you are . <EOS>\n",
      "\n",
      "> elle se brosse les cheveux .\n",
      "= she is brushing her hair .\n",
      "< she is brushing her hair . <EOS>\n",
      "\n",
      "> tu es trop faible .\n",
      "= you re too weak .\n",
      "< you re too weak . <EOS>\n",
      "\n",
      "> je suis plus que content .\n",
      "= i m more than happy .\n",
      "< i m more than happy . <EOS>\n",
      "\n",
      "> il est ici pour fomenter des troubles .\n",
      "= he s here trying to stir up trouble .\n",
      "< he s here to come on trouble . <EOS>\n",
      "\n",
      "> tu n es pas ma mere .\n",
      "= you re not my mother .\n",
      "< you re not my mother . <EOS>\n",
      "\n",
      "> je suis tres attiree par vous .\n",
      "= i m very drawn to you .\n",
      "< i m very drawn to you . <EOS>\n",
      "\n",
      "> nous sommes fiables .\n",
      "= we re reliable .\n",
      "< we re reliable . <EOS>\n",
      "\n",
      "> ils bronzent autour de la piscine .\n",
      "= they re sunbathing around the pool .\n",
      "< they re sunbathing around the pool . <EOS>\n",
      "\n"
     ]
    }
   ],
   "source": [
    "evaluate_at_random(encoder, decoder, n=10)"
   ]
  },
  {
   "cell_type": "markdown",
   "id": "4ec658e0",
   "metadata": {},
   "source": [
    "### Visualize Attention"
   ]
  },
  {
   "cell_type": "code",
   "execution_count": 38,
   "id": "1a38514e",
   "metadata": {},
   "outputs": [
    {
     "name": "stdout",
     "output_type": "stream",
     "text": [
      "input = elle a cinq ans de moins que moi .\n",
      "output = she is five years younger than me . <EOS>\n"
     ]
    },
    {
     "name": "stderr",
     "output_type": "stream",
     "text": [
      "/var/folders/x5/d37391zn23lbz242jwvsrdnnmnmcwd/T/ipykernel_8774/4221700367.py:9: UserWarning: FixedFormatter should only be used together with FixedLocator\n",
      "  ax.set_xticklabels([''] + input_sentence.split(' ') +\n",
      "/var/folders/x5/d37391zn23lbz242jwvsrdnnmnmcwd/T/ipykernel_8774/4221700367.py:11: UserWarning: FixedFormatter should only be used together with FixedLocator\n",
      "  ax.set_yticklabels([''] + output_words)\n"
     ]
    },
    {
     "data": {
      "image/png": "[encoded data removed]",
      "text/plain": [
       "<Figure size 432x288 with 2 Axes>"
      ]
     },
     "metadata": {
      "needs_background": "light"
     },
     "output_type": "display_data"
    },
    {
     "name": "stdout",
     "output_type": "stream",
     "text": [
      "input = elle est trop petit .\n",
      "output = she s too loud . <EOS>\n"
     ]
    },
    {
     "data": {
      "image/png": "[encoded data removed]",
      "text/plain": [
       "<Figure size 432x288 with 2 Axes>"
      ]
     },
     "metadata": {
      "needs_background": "light"
     },
     "output_type": "display_data"
    },
    {
     "name": "stdout",
     "output_type": "stream",
     "text": [
      "input = je ne crains pas de mourir .\n",
      "output = i m not scared to die . <EOS>\n"
     ]
    },
    {
     "data": {
      "image/png": "[encoded data removed]",
      "text/plain": [
       "<Figure size 432x288 with 2 Axes>"
      ]
     },
     "metadata": {
      "needs_background": "light"
     },
     "output_type": "display_data"
    },
    {
     "name": "stdout",
     "output_type": "stream",
     "text": [
      "input = c est un jeune directeur plein de talent .\n",
      "output = he s a talented young . . <EOS>\n"
     ]
    },
    {
     "data": {
      "image/png": "[encoded data removed]",
      "text/plain": [
       "<Figure size 432x288 with 2 Axes>"
      ]
     },
     "metadata": {
      "needs_background": "light"
     },
     "output_type": "display_data"
    }
   ],
   "source": [
    "def show_attention(input_sentence, output_words, attentions):\n",
    "    # Set up figure with colorbar\n",
    "    fig = plt.figure()\n",
    "    ax = fig.add_subplot(111)\n",
    "    cax = ax.matshow(attentions.numpy(), cmap='bone')\n",
    "    fig.colorbar(cax)\n",
    "\n",
    "    # Set up axes\n",
    "    ax.set_xticklabels([''] + input_sentence.split(' ') +\n",
    "                       ['<EOS>'], rotation=90)\n",
    "    ax.set_yticklabels([''] + output_words)\n",
    "\n",
    "    # Show label at every tick\n",
    "    ax.xaxis.set_major_locator(ticker.MultipleLocator(1))\n",
    "    ax.yaxis.set_major_locator(ticker.MultipleLocator(1))\n",
    "\n",
    "    plt.show()\n",
    "\n",
    "\n",
    "def evaluate_and_show_attention(input_sentence):\n",
    "    output_words, attentions = evaluate(\n",
    "        encoder, decoder, input_sentence)\n",
    "    print('input =', input_sentence)\n",
    "    print('output =', ' '.join(output_words))\n",
    "    show_attention(input_sentence, output_words, attentions)\n",
    "\n",
    "\n",
    "evaluate_and_show_attention(\"elle a cinq ans de moins que moi .\")\n",
    "\n",
    "evaluate_and_show_attention(\"elle est trop petit .\")\n",
    "\n",
    "evaluate_and_show_attention(\"je ne crains pas de mourir .\")\n",
    "\n",
    "evaluate_and_show_attention(\"c est un jeune directeur plein de talent .\")"
   ]
  },
  {
   "cell_type": "code",
   "execution_count": null,
   "id": "993061c2",
   "metadata": {},
   "outputs": [],
   "source": []
  }
 ],
 "metadata": {
  "kernelspec": {
   "display_name": "Python 3 (ipykernel)",
   "language": "python",
   "name": "python3"
  },
  "language_info": {
   "codemirror_mode": {
    "name": "ipython",
    "version": 3
   },
   "file_extension": ".py",
   "mimetype": "text/x-python",
   "name": "python",
   "nbconvert_exporter": "python",
   "pygments_lexer": "ipython3",
   "version": "3.9.12"
  }
 },
 "nbformat": 4,
 "nbformat_minor": 5
}
